{
 "cells": [
  {
   "cell_type": "code",
   "execution_count": 9,
   "metadata": {},
   "outputs": [
    {
     "name": "stdout",
     "output_type": "stream",
     "text": [
      "Quantum object: dims=[[2], [2]], shape=(2, 2), type='oper', dtype=Dense, isherm=True\n",
      "Qobj data =\n",
      "[[0. 0.]\n",
      " [0. 1.]]\n"
     ]
    }
   ],
   "source": [
    "import qutip as qt\n",
    "import numpy as np\n",
    "import sympy as sp\n",
    "from qiskit import QuantumCircuit\n",
    "\n",
    "rho_0 = sp.Matrix([[1,0],[0,0]])\n",
    "rho_1 = sp.Matrix([[0,0],[0,1]])\n",
    "\n",
    "matrix_numpy = np.array(rho_1).astype(np.complex128)\n",
    "\n",
    "# Convert the NumPy array to a QuTiP Qobj\n",
    "matrix_qutip = qt.Qobj(rho_1)\n",
    "print(matrix_qutip)"
   ]
  },
  {
   "cell_type": "code",
   "execution_count": 10,
   "metadata": {},
   "outputs": [],
   "source": [
    "def some(n=3, name='xh'):\n",
    "    qc = QuantumCircuit(n, name=name)\n",
    "    qc.x(0)\n",
    "    qc.x(0)\n",
    "    return qc\n",
    "\n",
    "U_gate = some().to_gate()\n",
    "U_gate.label = \"Error\"\n"
   ]
  },
  {
   "cell_type": "code",
   "execution_count": 12,
   "metadata": {},
   "outputs": [
    {
     "data": {
      "image/png": "[encoded data removed]",
      "text/plain": [
       "<Figure size 872.774x284.278 with 1 Axes>"
      ]
     },
     "execution_count": 12,
     "metadata": {},
     "output_type": "execute_result"
    }
   ],
   "source": [
    "qc = QuantumCircuit(3)\n",
    "\n",
    "qc.cx(0,1)\n",
    "qc.cx(0,2)\n",
    "\n",
    "qc.barrier()\n",
    "qc.append(U_gate,[0,1,2])\n",
    "qc.barrier()\n",
    "\n",
    "qc.cx(0,1)\n",
    "qc.cx(0,2)\n",
    "qc.ccx(1,2,0)\n",
    "\n",
    "qc.draw('mpl')"
   ]
  },
  {
   "cell_type": "code",
   "execution_count": 3,
   "metadata": {},
   "outputs": [
    {
     "data": {
      "text/latex": [
       "$\\displaystyle \\left[\\begin{matrix}\\frac{rz}{2} + \\frac{1}{2} & 0 & 0 & 0 & \\frac{rx}{2} - \\frac{i ry}{2} & 0 & 0 & 0\\\\0 & 0 & 0 & 0 & 0 & 0 & 0 & 0\\\\0 & 0 & 0 & 0 & 0 & 0 & 0 & 0\\\\0 & 0 & 0 & 0 & 0 & 0 & 0 & 0\\\\\\frac{rx}{2} + \\frac{i ry}{2} & 0 & 0 & 0 & \\frac{1}{2} - \\frac{rz}{2} & 0 & 0 & 0\\\\0 & 0 & 0 & 0 & 0 & 0 & 0 & 0\\\\0 & 0 & 0 & 0 & 0 & 0 & 0 & 0\\\\0 & 0 & 0 & 0 & 0 & 0 & 0 & 0\\end{matrix}\\right]$"
      ],
      "text/plain": [
       "Matrix([\n",
       "[   rz/2 + 1/2, 0, 0, 0, rx/2 - I*ry/2, 0, 0, 0],\n",
       "[            0, 0, 0, 0,             0, 0, 0, 0],\n",
       "[            0, 0, 0, 0,             0, 0, 0, 0],\n",
       "[            0, 0, 0, 0,             0, 0, 0, 0],\n",
       "[rx/2 + I*ry/2, 0, 0, 0,    1/2 - rz/2, 0, 0, 0],\n",
       "[            0, 0, 0, 0,             0, 0, 0, 0],\n",
       "[            0, 0, 0, 0,             0, 0, 0, 0],\n",
       "[            0, 0, 0, 0,             0, 0, 0, 0]])"
      ]
     },
     "execution_count": 3,
     "metadata": {},
     "output_type": "execute_result"
    }
   ],
   "source": [
    "I = sp.Matrix([[1, 0], [0, 1]])\n",
    "X = sp.Matrix([[0, 1], [1, 0]])\n",
    "Y = sp.Matrix([[0, -sp.I], [sp.I, 0]])\n",
    "Z = sp.Matrix([[1, 0], [0, -1]])\n",
    "\n",
    "rx, ry, rz = sp.symbols('rx ry rz')\n",
    "\n",
    "rho_a = (I + rx * X + ry * Y + rz * Z) / 2\n",
    "\n",
    "rho = sp.kronecker_product(rho_a,rho_0,rho_0)\n",
    "\n",
    "rho"
   ]
  },
  {
   "cell_type": "code",
   "execution_count": 4,
   "metadata": {},
   "outputs": [],
   "source": [
    "p = sp.symbols('p')\n",
    "\n",
    "K_0 = sp.sqrt(p)*sp.kronecker_product(X,X,I)\n",
    "K_1 = sp.sqrt(1-p)*sp.kronecker_product(I,I,I)"
   ]
  },
  {
   "cell_type": "code",
   "execution_count": 5,
   "metadata": {},
   "outputs": [],
   "source": [
    "U_1 = sp.kronecker_product(rho_0,I,I) + sp.kronecker_product(rho_1,X,I)\n",
    "U_2 = sp.kronecker_product(rho_0,I,I) + sp.kronecker_product(rho_1,I,X)\n",
    "\n",
    "U_4 = U_1\n",
    "U_5 = U_2\n",
    "U_6 = sp.kronecker_product(I,rho_0,rho_0) + sp.kronecker_product(I,rho_0,rho_1) + sp.kronecker_product(I,rho_1,rho_0) + sp.kronecker_product(X,rho_1,rho_1)"
   ]
  },
  {
   "cell_type": "code",
   "execution_count": 6,
   "metadata": {},
   "outputs": [],
   "source": [
    "Ua = U_6@U_5@U_4@K_0@U_2@U_1\n",
    "Ub = U_6@U_5@U_4@K_1@U_2@U_1\n"
   ]
  },
  {
   "cell_type": "code",
   "execution_count": 7,
   "metadata": {},
   "outputs": [
    {
     "data": {
      "text/latex": [
       "$\\displaystyle \\left[\\begin{matrix}\\left(1 - p\\right) \\left(\\frac{rz}{2} + \\frac{1}{2}\\right) & 0 & 0 & 0 & \\left(1 - p\\right) \\left(\\frac{rx}{2} - \\frac{i ry}{2}\\right) & 0 & 0 & 0\\\\0 & p \\left(\\frac{1}{2} - \\frac{rz}{2}\\right) & 0 & 0 & 0 & p \\left(\\frac{rx}{2} + \\frac{i ry}{2}\\right) & 0 & 0\\\\0 & 0 & 0 & 0 & 0 & 0 & 0 & 0\\\\0 & 0 & 0 & 0 & 0 & 0 & 0 & 0\\\\\\left(1 - p\\right) \\left(\\frac{rx}{2} + \\frac{i ry}{2}\\right) & 0 & 0 & 0 & \\left(\\frac{1}{2} - \\frac{rz}{2}\\right) \\left(1 - p\\right) & 0 & 0 & 0\\\\0 & p \\left(\\frac{rx}{2} - \\frac{i ry}{2}\\right) & 0 & 0 & 0 & p \\left(\\frac{rz}{2} + \\frac{1}{2}\\right) & 0 & 0\\\\0 & 0 & 0 & 0 & 0 & 0 & 0 & 0\\\\0 & 0 & 0 & 0 & 0 & 0 & 0 & 0\\end{matrix}\\right]$"
      ],
      "text/plain": [
       "Matrix([\n",
       "[   (1 - p)*(rz/2 + 1/2),                 0, 0, 0, (1 - p)*(rx/2 - I*ry/2),                 0, 0, 0],\n",
       "[                      0,    p*(1/2 - rz/2), 0, 0,                       0, p*(rx/2 + I*ry/2), 0, 0],\n",
       "[                      0,                 0, 0, 0,                       0,                 0, 0, 0],\n",
       "[                      0,                 0, 0, 0,                       0,                 0, 0, 0],\n",
       "[(1 - p)*(rx/2 + I*ry/2),                 0, 0, 0,    (1/2 - rz/2)*(1 - p),                 0, 0, 0],\n",
       "[                      0, p*(rx/2 - I*ry/2), 0, 0,                       0,    p*(rz/2 + 1/2), 0, 0],\n",
       "[                      0,                 0, 0, 0,                       0,                 0, 0, 0],\n",
       "[                      0,                 0, 0, 0,                       0,                 0, 0, 0]])"
      ]
     },
     "execution_count": 7,
     "metadata": {},
     "output_type": "execute_result"
    }
   ],
   "source": [
    "final = Ub@rho@Ub.transpose() + Ua@rho@Ua.transpose()\n",
    "final\n",
    "# d"
   ]
  },
  {
   "cell_type": "code",
   "execution_count": 8,
   "metadata": {},
   "outputs": [
    {
     "data": {
      "text/latex": [
       "$\\displaystyle \\left[\\begin{matrix}- p rz + \\frac{rz}{2} + \\frac{1}{2} & i p ry + \\frac{rx}{2} - \\frac{i ry}{2}\\\\- i p ry + \\frac{rx}{2} + \\frac{i ry}{2} & p rz - \\frac{rz}{2} + \\frac{1}{2}\\end{matrix}\\right]$"
      ],
      "text/plain": [
       "Matrix([\n",
       "[     -p*rz + rz/2 + 1/2, I*p*ry + rx/2 - I*ry/2],\n",
       "[-I*p*ry + rx/2 + I*ry/2,      p*rz - rz/2 + 1/2]])"
      ]
     },
     "execution_count": 8,
     "metadata": {},
     "output_type": "execute_result"
    }
   ],
   "source": [
    "import sympy as sp\n",
    "import itertools\n",
    "\n",
    "def partial_trace(rho, n, qubits_to_trace_out):\n",
    "    dim = 2 ** n\n",
    "    \n",
    "    # Define the indices for the new matrix\n",
    "    remaining_qubits = sorted(set(range(n)) - set(qubits_to_trace_out))\n",
    "    remaining_dim = 2 ** len(remaining_qubits)\n",
    "    \n",
    "    # Initialize the reduced density matrix\n",
    "    reduced_rho = sp.zeros(remaining_dim, remaining_dim)\n",
    "    \n",
    "    # Iterate over all possible states of the remaining qubits\n",
    "    for idx1, idx2 in itertools.product(range(remaining_dim), repeat=2):\n",
    "        idx1_bin = format(idx1, f'0{len(remaining_qubits)}b')\n",
    "        idx2_bin = format(idx2, f'0{len(remaining_qubits)}b')\n",
    "        \n",
    "        total_sum = 0\n",
    "        for trace_state in range(2 ** len(qubits_to_trace_out)):\n",
    "            trace_state_bin = format(trace_state, f'0{len(qubits_to_trace_out)}b')\n",
    "            \n",
    "            # Construct the full state for the original system\n",
    "            full_state1 = ['0'] * n\n",
    "            full_state2 = ['0'] * n\n",
    "            \n",
    "            for i, q in enumerate(remaining_qubits):\n",
    "                full_state1[q] = idx1_bin[i]\n",
    "                full_state2[q] = idx2_bin[i]\n",
    "            \n",
    "            for i, q in enumerate(qubits_to_trace_out):\n",
    "                full_state1[q] = trace_state_bin[i]\n",
    "                full_state2[q] = trace_state_bin[i]\n",
    "            \n",
    "            # Convert binary strings to indices\n",
    "            full_index1 = int(''.join(full_state1), 2)\n",
    "            full_index2 = int(''.join(full_state2), 2)\n",
    "            \n",
    "            total_sum += rho[full_index1, full_index2]\n",
    "        \n",
    "        reduced_rho[idx1, idx2] = total_sum\n",
    "    \n",
    "    return reduced_rho\n",
    "\n",
    "n=3\n",
    "qubits_to_trace_out = [2,1]\n",
    "\n",
    "# Compute the reduced density matrix\n",
    "reduced_rho = partial_trace(final, n, qubits_to_trace_out)\n",
    "\n",
    "reduced_rho = sp.simplify(reduced_rho)\n",
    "sp.simplify(reduced_rho)\n"
   ]
  },
  {
   "cell_type": "code",
   "execution_count": 130,
   "metadata": {},
   "outputs": [
    {
     "data": {
      "text/latex": [
       "$\\displaystyle \\left[\\begin{matrix}\\frac{rz}{2} + \\frac{1}{2} & \\frac{rx}{2} - \\frac{i ry}{2}\\\\\\frac{rx}{2} + \\frac{i ry}{2} & \\frac{1}{2} - \\frac{rz}{2}\\end{matrix}\\right]$"
      ],
      "text/plain": [
       "Matrix([\n",
       "[   rz/2 + 1/2, rx/2 - I*ry/2],\n",
       "[rx/2 + I*ry/2,    1/2 - rz/2]])"
      ]
     },
     "execution_count": 130,
     "metadata": {},
     "output_type": "execute_result"
    }
   ],
   "source": [
    "rho_a"
   ]
  },
  {
   "cell_type": "markdown",
   "metadata": {},
   "source": [
    "We get the original matrix rho back after error correction"
   ]
  },
  {
   "cell_type": "code",
   "execution_count": 133,
   "metadata": {},
   "outputs": [],
   "source": [
    "def sqrt_matrix(rho):\n",
    "    rho_p,rho_d = rho.diagonalize()\n",
    "    rho_d_immutable = sp.ImmutableMatrix(rho_d)\n",
    "\n",
    "    # Convert to mutable matrix\n",
    "    rho_d = sp.Matrix(rho_d_immutable)\n",
    "\n",
    "    length = int(np.sqrt(np.size(rho_d)))\n",
    "\n",
    "    rho_d_sqrt = sp.eye(2)\n",
    "\n",
    "    for i in range(length):\n",
    "        rho_d_sqrt[i,i] = sp.sqrt(rho_d[i,i])\n",
    "\n",
    "    sqrtm = rho_p*rho_d_sqrt*rho_p.inv()\n",
    "\n",
    "    return sqrtm"
   ]
  },
  {
   "cell_type": "code",
   "execution_count": 141,
   "metadata": {},
   "outputs": [
    {
     "data": {
      "text/latex": [
       "$\\displaystyle \\left[\\begin{matrix}\\frac{- 8 p^{3} ry^{4} - 16 p^{3} ry^{2} rz^{2} - 8 p^{3} ry^{2} rz - 8 p^{3} rz^{4} - 8 p^{3} rz^{3} + 4 p^{2} rx^{2} ry^{2} + 4 p^{2} rx^{2} rz^{2} + 12 p^{2} ry^{4} + 24 p^{2} ry^{2} rz^{2} + 16 p^{2} ry^{2} rz + 4 p^{2} ry^{2} + 12 p^{2} rz^{4} + 16 p^{2} rz^{3} + 4 p^{2} rz^{2} - 6 p rx^{2} ry^{2} - 6 p rx^{2} rz^{2} + 2 p rx^{2} rz \\sqrt{1 - \\sqrt{4 p^{2} ry^{2} + 4 p^{2} rz^{2} - 4 p ry^{2} - 4 p rz^{2} + rx^{2} + ry^{2} + rz^{2}}} \\sqrt{\\sqrt{4 p^{2} ry^{2} + 4 p^{2} rz^{2} - 4 p ry^{2} - 4 p rz^{2} + rx^{2} + ry^{2} + rz^{2}} + 1} - 4 p rx^{2} rz - 6 p ry^{4} - 12 p ry^{2} rz^{2} - 10 p ry^{2} rz - 4 p ry^{2} - 6 p rz^{4} - 10 p rz^{3} - 4 p rz^{2} + rx^{4} + 2 rx^{2} ry^{2} + 2 rx^{2} rz^{2} + 2 rx^{2} rz + rx^{2} + ry^{4} + 2 ry^{2} rz^{2} + 2 ry^{2} rz + ry^{2} + rz^{4} + 2 rz^{3} + rz^{2}}{4 \\left(4 p^{2} ry^{2} + 4 p^{2} rz^{2} - 4 p ry^{2} - 4 p rz^{2} + rx^{2} + ry^{2} + rz^{2}\\right)} & \\frac{4 i p^{3} ry^{3} + 4 i p^{3} ry rz^{2} + 2 p^{2} rx ry^{2} \\sqrt{1 - \\sqrt{4 p^{2} ry^{2} + 4 p^{2} rz^{2} - 4 p ry^{2} - 4 p rz^{2} + rx^{2} + ry^{2} + rz^{2}}} \\sqrt{\\sqrt{4 p^{2} ry^{2} + 4 p^{2} rz^{2} - 4 p ry^{2} - 4 p rz^{2} + rx^{2} + ry^{2} + rz^{2}} + 1} + 2 p^{2} rx ry^{2} + 2 p^{2} rx rz^{2} \\sqrt{1 - \\sqrt{4 p^{2} ry^{2} + 4 p^{2} rz^{2} - 4 p ry^{2} - 4 p rz^{2} + rx^{2} + ry^{2} + rz^{2}}} \\sqrt{\\sqrt{4 p^{2} ry^{2} + 4 p^{2} rz^{2} - 4 p ry^{2} - 4 p rz^{2} + rx^{2} + ry^{2} + rz^{2}} + 1} + 2 p^{2} rx rz^{2} - 8 i p^{2} ry^{3} - 8 i p^{2} ry rz^{2} - i p rx^{2} ry \\sqrt{1 - \\sqrt{4 p^{2} ry^{2} + 4 p^{2} rz^{2} - 4 p ry^{2} - 4 p rz^{2} + rx^{2} + ry^{2} + rz^{2}}} \\sqrt{\\sqrt{4 p^{2} ry^{2} + 4 p^{2} rz^{2} - 4 p ry^{2} - 4 p rz^{2} + rx^{2} + ry^{2} + rz^{2}} + 1} + 2 i p rx^{2} ry - p rx ry^{2} \\sqrt{1 - \\sqrt{4 p^{2} ry^{2} + 4 p^{2} rz^{2} - 4 p ry^{2} - 4 p rz^{2} + rx^{2} + ry^{2} + rz^{2}}} \\sqrt{\\sqrt{4 p^{2} ry^{2} + 4 p^{2} rz^{2} - 4 p ry^{2} - 4 p rz^{2} + rx^{2} + ry^{2} + rz^{2}} + 1} - 3 p rx ry^{2} - p rx rz^{2} \\sqrt{1 - \\sqrt{4 p^{2} ry^{2} + 4 p^{2} rz^{2} - 4 p ry^{2} - 4 p rz^{2} + rx^{2} + ry^{2} + rz^{2}}} \\sqrt{\\sqrt{4 p^{2} ry^{2} + 4 p^{2} rz^{2} - 4 p ry^{2} - 4 p rz^{2} + rx^{2} + ry^{2} + rz^{2}} + 1} - 3 p rx rz^{2} + 5 i p ry^{3} + 5 i p ry rz^{2} + rx^{3} - i rx^{2} ry + rx ry^{2} + rx rz^{2} - i ry^{3} - i ry rz^{2}}{2 \\left(4 p^{2} ry^{2} + 4 p^{2} rz^{2} - 4 p ry^{2} - 4 p rz^{2} + rx^{2} + ry^{2} + rz^{2}\\right)}\\\\\\frac{- 4 i p^{3} ry^{3} - 4 i p^{3} ry rz^{2} + 2 p^{2} rx ry^{2} \\sqrt{1 - \\sqrt{4 p^{2} ry^{2} + 4 p^{2} rz^{2} - 4 p ry^{2} - 4 p rz^{2} + rx^{2} + ry^{2} + rz^{2}}} \\sqrt{\\sqrt{4 p^{2} ry^{2} + 4 p^{2} rz^{2} - 4 p ry^{2} - 4 p rz^{2} + rx^{2} + ry^{2} + rz^{2}} + 1} + 2 p^{2} rx ry^{2} + 2 p^{2} rx rz^{2} \\sqrt{1 - \\sqrt{4 p^{2} ry^{2} + 4 p^{2} rz^{2} - 4 p ry^{2} - 4 p rz^{2} + rx^{2} + ry^{2} + rz^{2}}} \\sqrt{\\sqrt{4 p^{2} ry^{2} + 4 p^{2} rz^{2} - 4 p ry^{2} - 4 p rz^{2} + rx^{2} + ry^{2} + rz^{2}} + 1} + 2 p^{2} rx rz^{2} + 8 i p^{2} ry^{3} + 8 i p^{2} ry rz^{2} + i p rx^{2} ry \\sqrt{1 - \\sqrt{4 p^{2} ry^{2} + 4 p^{2} rz^{2} - 4 p ry^{2} - 4 p rz^{2} + rx^{2} + ry^{2} + rz^{2}}} \\sqrt{\\sqrt{4 p^{2} ry^{2} + 4 p^{2} rz^{2} - 4 p ry^{2} - 4 p rz^{2} + rx^{2} + ry^{2} + rz^{2}} + 1} - 2 i p rx^{2} ry - p rx ry^{2} \\sqrt{1 - \\sqrt{4 p^{2} ry^{2} + 4 p^{2} rz^{2} - 4 p ry^{2} - 4 p rz^{2} + rx^{2} + ry^{2} + rz^{2}}} \\sqrt{\\sqrt{4 p^{2} ry^{2} + 4 p^{2} rz^{2} - 4 p ry^{2} - 4 p rz^{2} + rx^{2} + ry^{2} + rz^{2}} + 1} - 3 p rx ry^{2} - p rx rz^{2} \\sqrt{1 - \\sqrt{4 p^{2} ry^{2} + 4 p^{2} rz^{2} - 4 p ry^{2} - 4 p rz^{2} + rx^{2} + ry^{2} + rz^{2}}} \\sqrt{\\sqrt{4 p^{2} ry^{2} + 4 p^{2} rz^{2} - 4 p ry^{2} - 4 p rz^{2} + rx^{2} + ry^{2} + rz^{2}} + 1} - 3 p rx rz^{2} - 5 i p ry^{3} - 5 i p ry rz^{2} + rx^{3} + i rx^{2} ry + rx ry^{2} + rx rz^{2} + i ry^{3} + i ry rz^{2}}{2 \\left(4 p^{2} ry^{2} + 4 p^{2} rz^{2} - 4 p ry^{2} - 4 p rz^{2} + rx^{2} + ry^{2} + rz^{2}\\right)} & \\frac{- 8 p^{3} ry^{4} - 16 p^{3} ry^{2} rz^{2} + 8 p^{3} ry^{2} rz - 8 p^{3} rz^{4} + 8 p^{3} rz^{3} + 4 p^{2} rx^{2} ry^{2} + 4 p^{2} rx^{2} rz^{2} + 12 p^{2} ry^{4} + 24 p^{2} ry^{2} rz^{2} - 16 p^{2} ry^{2} rz + 4 p^{2} ry^{2} + 12 p^{2} rz^{4} - 16 p^{2} rz^{3} + 4 p^{2} rz^{2} - 6 p rx^{2} ry^{2} - 6 p rx^{2} rz^{2} - 2 p rx^{2} rz \\sqrt{1 - \\sqrt{4 p^{2} ry^{2} + 4 p^{2} rz^{2} - 4 p ry^{2} - 4 p rz^{2} + rx^{2} + ry^{2} + rz^{2}}} \\sqrt{\\sqrt{4 p^{2} ry^{2} + 4 p^{2} rz^{2} - 4 p ry^{2} - 4 p rz^{2} + rx^{2} + ry^{2} + rz^{2}} + 1} + 4 p rx^{2} rz - 6 p ry^{4} - 12 p ry^{2} rz^{2} + 10 p ry^{2} rz - 4 p ry^{2} - 6 p rz^{4} + 10 p rz^{3} - 4 p rz^{2} + rx^{4} + 2 rx^{2} ry^{2} + 2 rx^{2} rz^{2} - 2 rx^{2} rz + rx^{2} + ry^{4} + 2 ry^{2} rz^{2} - 2 ry^{2} rz + ry^{2} + rz^{4} - 2 rz^{3} + rz^{2}}{4 \\left(4 p^{2} ry^{2} + 4 p^{2} rz^{2} - 4 p ry^{2} - 4 p rz^{2} + rx^{2} + ry^{2} + rz^{2}\\right)}\\end{matrix}\\right]$"
      ],
      "text/plain": [
       "Matrix([\n",
       "[                                                                                                                                                                                                                                                                                                                                                                                                                                                                                                                                               (-8*p**3*ry**4 - 16*p**3*ry**2*rz**2 - 8*p**3*ry**2*rz - 8*p**3*rz**4 - 8*p**3*rz**3 + 4*p**2*rx**2*ry**2 + 4*p**2*rx**2*rz**2 + 12*p**2*ry**4 + 24*p**2*ry**2*rz**2 + 16*p**2*ry**2*rz + 4*p**2*ry**2 + 12*p**2*rz**4 + 16*p**2*rz**3 + 4*p**2*rz**2 - 6*p*rx**2*ry**2 - 6*p*rx**2*rz**2 + 2*p*rx**2*rz*sqrt(1 - sqrt(4*p**2*ry**2 + 4*p**2*rz**2 - 4*p*ry**2 - 4*p*rz**2 + rx**2 + ry**2 + rz**2))*sqrt(sqrt(4*p**2*ry**2 + 4*p**2*rz**2 - 4*p*ry**2 - 4*p*rz**2 + rx**2 + ry**2 + rz**2) + 1) - 4*p*rx**2*rz - 6*p*ry**4 - 12*p*ry**2*rz**2 - 10*p*ry**2*rz - 4*p*ry**2 - 6*p*rz**4 - 10*p*rz**3 - 4*p*rz**2 + rx**4 + 2*rx**2*ry**2 + 2*rx**2*rz**2 + 2*rx**2*rz + rx**2 + ry**4 + 2*ry**2*rz**2 + 2*ry**2*rz + ry**2 + rz**4 + 2*rz**3 + rz**2)/(4*(4*p**2*ry**2 + 4*p**2*rz**2 - 4*p*ry**2 - 4*p*rz**2 + rx**2 + ry**2 + rz**2)), (4*I*p**3*ry**3 + 4*I*p**3*ry*rz**2 + 2*p**2*rx*ry**2*sqrt(1 - sqrt(4*p**2*ry**2 + 4*p**2*rz**2 - 4*p*ry**2 - 4*p*rz**2 + rx**2 + ry**2 + rz**2))*sqrt(sqrt(4*p**2*ry**2 + 4*p**2*rz**2 - 4*p*ry**2 - 4*p*rz**2 + rx**2 + ry**2 + rz**2) + 1) + 2*p**2*rx*ry**2 + 2*p**2*rx*rz**2*sqrt(1 - sqrt(4*p**2*ry**2 + 4*p**2*rz**2 - 4*p*ry**2 - 4*p*rz**2 + rx**2 + ry**2 + rz**2))*sqrt(sqrt(4*p**2*ry**2 + 4*p**2*rz**2 - 4*p*ry**2 - 4*p*rz**2 + rx**2 + ry**2 + rz**2) + 1) + 2*p**2*rx*rz**2 - 8*I*p**2*ry**3 - 8*I*p**2*ry*rz**2 - I*p*rx**2*ry*sqrt(1 - sqrt(4*p**2*ry**2 + 4*p**2*rz**2 - 4*p*ry**2 - 4*p*rz**2 + rx**2 + ry**2 + rz**2))*sqrt(sqrt(4*p**2*ry**2 + 4*p**2*rz**2 - 4*p*ry**2 - 4*p*rz**2 + rx**2 + ry**2 + rz**2) + 1) + 2*I*p*rx**2*ry - p*rx*ry**2*sqrt(1 - sqrt(4*p**2*ry**2 + 4*p**2*rz**2 - 4*p*ry**2 - 4*p*rz**2 + rx**2 + ry**2 + rz**2))*sqrt(sqrt(4*p**2*ry**2 + 4*p**2*rz**2 - 4*p*ry**2 - 4*p*rz**2 + rx**2 + ry**2 + rz**2) + 1) - 3*p*rx*ry**2 - p*rx*rz**2*sqrt(1 - sqrt(4*p**2*ry**2 + 4*p**2*rz**2 - 4*p*ry**2 - 4*p*rz**2 + rx**2 + ry**2 + rz**2))*sqrt(sqrt(4*p**2*ry**2 + 4*p**2*rz**2 - 4*p*ry**2 - 4*p*rz**2 + rx**2 + ry**2 + rz**2) + 1) - 3*p*rx*rz**2 + 5*I*p*ry**3 + 5*I*p*ry*rz**2 + rx**3 - I*rx**2*ry + rx*ry**2 + rx*rz**2 - I*ry**3 - I*ry*rz**2)/(2*(4*p**2*ry**2 + 4*p**2*rz**2 - 4*p*ry**2 - 4*p*rz**2 + rx**2 + ry**2 + rz**2))],\n",
       "[(-4*I*p**3*ry**3 - 4*I*p**3*ry*rz**2 + 2*p**2*rx*ry**2*sqrt(1 - sqrt(4*p**2*ry**2 + 4*p**2*rz**2 - 4*p*ry**2 - 4*p*rz**2 + rx**2 + ry**2 + rz**2))*sqrt(sqrt(4*p**2*ry**2 + 4*p**2*rz**2 - 4*p*ry**2 - 4*p*rz**2 + rx**2 + ry**2 + rz**2) + 1) + 2*p**2*rx*ry**2 + 2*p**2*rx*rz**2*sqrt(1 - sqrt(4*p**2*ry**2 + 4*p**2*rz**2 - 4*p*ry**2 - 4*p*rz**2 + rx**2 + ry**2 + rz**2))*sqrt(sqrt(4*p**2*ry**2 + 4*p**2*rz**2 - 4*p*ry**2 - 4*p*rz**2 + rx**2 + ry**2 + rz**2) + 1) + 2*p**2*rx*rz**2 + 8*I*p**2*ry**3 + 8*I*p**2*ry*rz**2 + I*p*rx**2*ry*sqrt(1 - sqrt(4*p**2*ry**2 + 4*p**2*rz**2 - 4*p*ry**2 - 4*p*rz**2 + rx**2 + ry**2 + rz**2))*sqrt(sqrt(4*p**2*ry**2 + 4*p**2*rz**2 - 4*p*ry**2 - 4*p*rz**2 + rx**2 + ry**2 + rz**2) + 1) - 2*I*p*rx**2*ry - p*rx*ry**2*sqrt(1 - sqrt(4*p**2*ry**2 + 4*p**2*rz**2 - 4*p*ry**2 - 4*p*rz**2 + rx**2 + ry**2 + rz**2))*sqrt(sqrt(4*p**2*ry**2 + 4*p**2*rz**2 - 4*p*ry**2 - 4*p*rz**2 + rx**2 + ry**2 + rz**2) + 1) - 3*p*rx*ry**2 - p*rx*rz**2*sqrt(1 - sqrt(4*p**2*ry**2 + 4*p**2*rz**2 - 4*p*ry**2 - 4*p*rz**2 + rx**2 + ry**2 + rz**2))*sqrt(sqrt(4*p**2*ry**2 + 4*p**2*rz**2 - 4*p*ry**2 - 4*p*rz**2 + rx**2 + ry**2 + rz**2) + 1) - 3*p*rx*rz**2 - 5*I*p*ry**3 - 5*I*p*ry*rz**2 + rx**3 + I*rx**2*ry + rx*ry**2 + rx*rz**2 + I*ry**3 + I*ry*rz**2)/(2*(4*p**2*ry**2 + 4*p**2*rz**2 - 4*p*ry**2 - 4*p*rz**2 + rx**2 + ry**2 + rz**2)),                                                                                                                                                                                                                                                                                                                                                                                                                                                                                                                                               (-8*p**3*ry**4 - 16*p**3*ry**2*rz**2 + 8*p**3*ry**2*rz - 8*p**3*rz**4 + 8*p**3*rz**3 + 4*p**2*rx**2*ry**2 + 4*p**2*rx**2*rz**2 + 12*p**2*ry**4 + 24*p**2*ry**2*rz**2 - 16*p**2*ry**2*rz + 4*p**2*ry**2 + 12*p**2*rz**4 - 16*p**2*rz**3 + 4*p**2*rz**2 - 6*p*rx**2*ry**2 - 6*p*rx**2*rz**2 - 2*p*rx**2*rz*sqrt(1 - sqrt(4*p**2*ry**2 + 4*p**2*rz**2 - 4*p*ry**2 - 4*p*rz**2 + rx**2 + ry**2 + rz**2))*sqrt(sqrt(4*p**2*ry**2 + 4*p**2*rz**2 - 4*p*ry**2 - 4*p*rz**2 + rx**2 + ry**2 + rz**2) + 1) + 4*p*rx**2*rz - 6*p*ry**4 - 12*p*ry**2*rz**2 + 10*p*ry**2*rz - 4*p*ry**2 - 6*p*rz**4 + 10*p*rz**3 - 4*p*rz**2 + rx**4 + 2*rx**2*ry**2 + 2*rx**2*rz**2 - 2*rx**2*rz + rx**2 + ry**4 + 2*ry**2*rz**2 - 2*ry**2*rz + ry**2 + rz**4 - 2*rz**3 + rz**2)/(4*(4*p**2*ry**2 + 4*p**2*rz**2 - 4*p*ry**2 - 4*p*rz**2 + rx**2 + ry**2 + rz**2))]])"
      ]
     },
     "execution_count": 141,
     "metadata": {},
     "output_type": "execute_result"
    }
   ],
   "source": [
    "# def rho_fidelity(rho,rho_p):\n",
    "sqrt_rho = sqrt_matrix(reduced_rho)\n",
    "sqrt_rho = sp.simplify(sqrt_rho)\n",
    "sqrt_rho\n",
    "temp = sqrt_rho*rho_a*sqrt_rho\n",
    "# print(1)\n",
    "temp_2 = sp.simplify(temp)\n",
    "temp_2\n",
    "# final = sqrt_matrix(temp_2)\n",
    "# final = sp.simplify(final)\n",
    "# print(2)\n",
    "# final_tr = sp.trace(final)\n",
    "\n",
    "# fidelity_matrix = final_tr**2\n",
    "# s_fidelity = sp.simplify(fidelity_matrix)\n"
   ]
  },
  {
   "cell_type": "code",
   "execution_count": null,
   "metadata": {},
   "outputs": [
    {
     "data": {
      "text/latex": [
       "$\\displaystyle 0.999999999999999$"
      ],
      "text/plain": [
       "0.999999999999999"
      ]
     },
     "execution_count": 122,
     "metadata": {},
     "output_type": "execute_result"
    }
   ],
   "source": [
    "fidelity_value = s_fidelity.subs({rx:0, ry:0.9, rz:0.001})\n",
    "fidelity_value"
   ]
  },
  {
   "cell_type": "code",
   "execution_count": null,
   "metadata": {},
   "outputs": [],
   "source": []
  }
 ],
 "metadata": {
  "kernelspec": {
   "display_name": "Python 3",
   "language": "python",
   "name": "python3"
  },
  "language_info": {
   "codemirror_mode": {
    "name": "ipython",
    "version": 3
   },
   "file_extension": ".py",
   "mimetype": "text/x-python",
   "name": "python",
   "nbconvert_exporter": "python",
   "pygments_lexer": "ipython3",
   "version": "3.12.4"
  }
 },
 "nbformat": 4,
 "nbformat_minor": 2
}
