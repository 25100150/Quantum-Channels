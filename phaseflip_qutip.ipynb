{
 "cells": [
  {
   "cell_type": "code",
   "execution_count": 1,
   "metadata": {},
   "outputs": [
    {
     "data": {
      "text/latex": [
       "Quantum object: dims=[[2], [2]], shape=(2, 2), type='oper', dtype=CSR, isherm=True$$\\left(\\begin{array}{cc}0.500 & 0.250\\\\0.250 & 0.500\\end{array}\\right)$$"
      ],
      "text/plain": [
       "Quantum object: dims=[[2], [2]], shape=(2, 2), type='oper', dtype=CSR, isherm=True\n",
       "Qobj data =\n",
       "[[0.5  0.25]\n",
       " [0.25 0.5 ]]"
      ]
     },
     "execution_count": 1,
     "metadata": {},
     "output_type": "execute_result"
    }
   ],
   "source": [
    "from qutip import *\n",
    "import numpy as np\n",
    "import sympy as sp\n",
    "from qiskit import QuantumCircuit\n",
    "\n",
    "rho_0 = Qobj([[1,0],[0,0]])\n",
    "rho_1 = Qobj([[0,0],[0,1]])\n",
    "\n",
    "I =  qeye(2)\n",
    "X = sigmax()\n",
    "Y = sigmay()\n",
    "Z = sigmaz()\n",
    "H = 1/np.sqrt(2)*Qobj([[1,1],[1,-1]])\n",
    "\n",
    "c = 1/np.sqrt(1)\n",
    "\n",
    "r = c*np.array([0.5,0,0])       #[rx,ry,rz]\n",
    "\n",
    "rho_a = 1/2*(I+r[0]*X + r[1]*Y + r[2]*Z)\n",
    "# rho_a = Qobj([[0,0],[0,1]])\n",
    "\n",
    "rho = tensor(rho_a,rho_0,rho_0)\n",
    "rho_a\n"
   ]
  },
  {
   "cell_type": "code",
   "execution_count": 2,
   "metadata": {},
   "outputs": [],
   "source": [
    "def some(n=3, name='xh'):\n",
    "    qc = QuantumCircuit(n, name=name)\n",
    "    qc.x(0)\n",
    "    qc.x(0)\n",
    "    return qc\n",
    "\n",
    "U_gate = some().to_gate()\n",
    "U_gate.label = \"Error\"\n"
   ]
  },
  {
   "cell_type": "code",
   "execution_count": 4,
   "metadata": {},
   "outputs": [
    {
     "data": {
      "image/png": "[encoded data removed]",
      "text/plain": [
       "<Figure size 1040x284.278 with 1 Axes>"
      ]
     },
     "execution_count": 4,
     "metadata": {},
     "output_type": "execute_result"
    }
   ],
   "source": [
    "qc = QuantumCircuit(3)\n",
    "\n",
    "qc.cx(0,1)\n",
    "qc.cx(0,2)\n",
    "\n",
    "qc.h([0,1,2])\n",
    "qc.barrier()\n",
    "qc.append(U_gate,[0,1,2])\n",
    "qc.barrier()\n",
    "\n",
    "qc.h([0,1,2])\n",
    "qc.cx(0,1)\n",
    "qc.cx(0,2)\n",
    "qc.ccx(1,2,0)\n",
    "\n",
    "qc.draw('mpl')"
   ]
  },
  {
   "cell_type": "code",
   "execution_count": 2,
   "metadata": {},
   "outputs": [],
   "source": [
    "p = 0.5\n",
    "K_0 = np.sqrt(p)*sp.kronecker_product(Z,I,I)\n",
    "K_1 = np.sqrt(1-p)*tensor(I,I,I)\n"
   ]
  },
  {
   "cell_type": "code",
   "execution_count": 3,
   "metadata": {},
   "outputs": [],
   "source": [
    "\n",
    "U_1 = tensor(rho_0,I,I) + tensor(rho_1,X,I)\n",
    "U_2 = tensor(rho_0,I,I) + tensor(rho_1,I,X)\n",
    "U_4 = U_1\n",
    "U_5 = U_2\n",
    "U_6 = tensor(I,rho_0,rho_0) + tensor(I,rho_0,rho_1) + tensor(I,rho_1,rho_0) + tensor(X,rho_1,rho_1)\n",
    "rho_H = tensor(H,H,H)"
   ]
  },
  {
   "cell_type": "code",
   "execution_count": 4,
   "metadata": {},
   "outputs": [],
   "source": [
    "# U = U_6*U_5*U_4*rho_H*K_0*rho_H*U_2*U_1\n",
    "\n",
    "Ua = U_6@U_5@U_4@rho_H@K_0@rho_H@U_2@U_1\n",
    "Ub = U_6@U_5@U_4@rho_H@K_1@rho_H@U_2@U_1"
   ]
  },
  {
   "cell_type": "code",
   "execution_count": 5,
   "metadata": {},
   "outputs": [],
   "source": [
    "final = Ub@rho@Ub.trans() + Ua@rho@Ua.trans()\n",
    "# final\n",
    "# d"
   ]
  },
  {
   "cell_type": "code",
   "execution_count": 6,
   "metadata": {},
   "outputs": [
    {
     "data": {
      "text/latex": [
       "Quantum object: dims=[[2], [2]], shape=(2, 2), type='oper', dtype=Dense, isherm=True$$\\left(\\begin{array}{cc}0.500 & 0.250\\\\0.250 & 0.500\\end{array}\\right)$$"
      ],
      "text/plain": [
       "Quantum object: dims=[[2], [2]], shape=(2, 2), type='oper', dtype=Dense, isherm=True\n",
       "Qobj data =\n",
       "[[0.5  0.25]\n",
       " [0.25 0.5 ]]"
      ]
     },
     "execution_count": 6,
     "metadata": {},
     "output_type": "execute_result"
    }
   ],
   "source": [
    "reduced_rho = final.ptrace(0)\n",
    "reduced_rho"
   ]
  },
  {
   "cell_type": "code",
   "execution_count": 7,
   "metadata": {},
   "outputs": [
    {
     "data": {
      "text/latex": [
       "Quantum object: dims=[[2], [2]], shape=(2, 2), type='oper', dtype=CSR, isherm=True$$\\left(\\begin{array}{cc}0.500 & 0.250\\\\0.250 & 0.500\\end{array}\\right)$$"
      ],
      "text/plain": [
       "Quantum object: dims=[[2], [2]], shape=(2, 2), type='oper', dtype=CSR, isherm=True\n",
       "Qobj data =\n",
       "[[0.5  0.25]\n",
       " [0.25 0.5 ]]"
      ]
     },
     "execution_count": 7,
     "metadata": {},
     "output_type": "execute_result"
    }
   ],
   "source": [
    "rho_a"
   ]
  },
  {
   "cell_type": "code",
   "execution_count": 8,
   "metadata": {},
   "outputs": [
    {
     "data": {
      "text/plain": [
       "0.9999999999999993"
      ]
     },
     "execution_count": 8,
     "metadata": {},
     "output_type": "execute_result"
    }
   ],
   "source": [
    "fidelity(rho_a,reduced_rho)"
   ]
  },
  {
   "cell_type": "markdown",
   "metadata": {},
   "source": [
    "We get the original matrix rho back after error correction"
   ]
  },
  {
   "cell_type": "code",
   "execution_count": 37,
   "metadata": {},
   "outputs": [],
   "source": [
    "\n",
    "# @njit\n",
    "def phaseflip(x,y,z,p):\n",
    "\n",
    "    rho_0 = Qobj([[1,0],[0,0]])\n",
    "    rho_1 = Qobj([[0,0],[0,1]])\n",
    "\n",
    "    I =  qeye(2)\n",
    "    X = sigmax()\n",
    "    Y = sigmay()\n",
    "    Z = sigmaz()\n",
    "    H = 1/np.sqrt(2)*Qobj([[1,1],[1,-1]])\n",
    "    \n",
    "    rho_initial = 1/2*(I+x*X + y*Y + z*Z)\n",
    "    # rho_a = Qobj([[0,0],[0,1]])\n",
    "\n",
    "    rho = tensor(rho_initial,rho_0,rho_0)\n",
    "\n",
    "    #Defining the Kraus operators corresponding to the error\n",
    "    K_0 = np.sqrt(p)*tensor(Z,Z,Z)\n",
    "    K_1 = np.sqrt(1-p)*tensor(I,I,I)\n",
    "\n",
    "    #defining the gates corresponding to the bit flip circuit\n",
    "    U_1 = tensor(rho_0,I,I) + tensor(rho_1,X,I)\n",
    "    U_2 = tensor(rho_0,I,I) + tensor(rho_1,I,X)\n",
    "    U_4 = U_1\n",
    "    U_5 = U_2\n",
    "    U_6 = tensor(I,rho_0,rho_0) + tensor(I,rho_0,rho_1) + tensor(I,rho_1,rho_0) + tensor(X,rho_1,rho_1)\n",
    "\n",
    "    Ua = U_6@U_5@U_4@rho_H@K_0@rho_H@U_2@U_1\n",
    "    Ub = U_6@U_5@U_4@rho_H@K_1@rho_H@U_2@U_1\n",
    "\n",
    "    final = Ub@rho@Ub.trans() + Ua@rho@Ua.trans()\n",
    "    reduced_rho = final.ptrace(0)\n",
    "\n",
    "    ans = fidelity(rho_initial,reduced_rho)\n",
    "    return  ans"
   ]
  },
  {
   "cell_type": "code",
   "execution_count": 38,
   "metadata": {},
   "outputs": [],
   "source": [
    "# @njit\n",
    "def generate_fidelity_data(phaseflip, step):\n",
    "    # Initialize an empty list to store the results\n",
    "    fidelity_data = []\n",
    "\n",
    "    # Iterate over values of x, y, z\n",
    "    for x in np.arange(-1, 1 + step, step):\n",
    "        for y in np.arange(-1, 1 + step, step):\n",
    "            for z in np.arange(-1, 1 + step, step):\n",
    "                # Check if the point (x, y, z) is within the Bloch sphere\n",
    "                if x**2 + y**2 + z**2 <= 1:\n",
    "                    # Iterate over values of p from 0 to 1 with step size\n",
    "                    for p in np.arange(0, 1 + step, step):\n",
    "                        # Compute the fidelity for the given (x, y, z, p)\n",
    "                        fidelity = phaseflip(x, y, z, p)\n",
    "                        # Store the values and the computed fidelity\n",
    "                        fidelity_data.append((x, y, z, p, fidelity))\n",
    "    \n",
    "    return fidelity_data"
   ]
  },
  {
   "cell_type": "code",
   "execution_count": 47,
   "metadata": {},
   "outputs": [],
   "source": [
    "fidelity_results = generate_fidelity_data(phaseflip, 0.04)\n",
    "# print(np.size(fidelity_results))"
   ]
  },
  {
   "cell_type": "code",
   "execution_count": 48,
   "metadata": {},
   "outputs": [],
   "source": [
    "fidelity_data = np.array(fidelity_results)\n",
    "\n",
    "# Extract the p values and fidelity values\n",
    "p_values = fidelity_data[:, 3]\n",
    "fidelity_values = fidelity_data[:, 4]\n",
    "\n",
    "# Get the unique p values\n",
    "unique_p_values = np.unique(p_values)\n"
   ]
  },
  {
   "cell_type": "code",
   "execution_count": 49,
   "metadata": {},
   "outputs": [
    {
     "name": "stdout",
     "output_type": "stream",
     "text": [
      "Average Fidelity for p=0.0: 1.0\n",
      "Average Fidelity for p=0.04: 0.999\n",
      "Average Fidelity for p=0.08: 0.996\n",
      "Average Fidelity for p=0.12: 0.992\n",
      "Average Fidelity for p=0.16: 0.988\n",
      "Average Fidelity for p=0.2: 0.983\n",
      "Average Fidelity for p=0.24: 0.978\n",
      "Average Fidelity for p=0.28: 0.972\n",
      "Average Fidelity for p=0.32: 0.965\n",
      "Average Fidelity for p=0.36: 0.958\n",
      "Average Fidelity for p=0.4: 0.951\n",
      "Average Fidelity for p=0.44: 0.943\n",
      "Average Fidelity for p=0.48: 0.934\n",
      "Average Fidelity for p=0.52: 0.925\n",
      "Average Fidelity for p=0.56: 0.916\n",
      "Average Fidelity for p=0.6: 0.906\n",
      "Average Fidelity for p=0.64: 0.895\n",
      "Average Fidelity for p=0.68: 0.884\n",
      "Average Fidelity for p=0.72: 0.872\n",
      "Average Fidelity for p=0.76: 0.859\n",
      "Average Fidelity for p=0.8: 0.845\n",
      "Average Fidelity for p=0.84: 0.83\n",
      "Average Fidelity for p=0.88: 0.814\n",
      "Average Fidelity for p=0.92: 0.796\n",
      "Average Fidelity for p=0.96: 0.776\n",
      "Average Fidelity for p=1.0: 0.751\n"
     ]
    }
   ],
   "source": [
    "average_fidelity_by_p = {p: np.mean(fidelity_values[p_values == p]) for p in unique_p_values}\n",
    "\n",
    "# Print the average fidelity for each distinct value of p\n",
    "for p, avg_fidelity in average_fidelity_by_p.items():\n",
    "    print(f\"Average Fidelity for p={np.round(p,2)}: {np.round(avg_fidelity,3)}\")"
   ]
  },
  {
   "cell_type": "code",
   "execution_count": 50,
   "metadata": {},
   "outputs": [
    {
     "data": {
      "image/png": "[encoded data removed]",
      "text/plain": [
       "<Figure size 640x480 with 1 Axes>"
      ]
     },
     "metadata": {},
     "output_type": "display_data"
    }
   ],
   "source": [
    "import matplotlib.pyplot as plt\n",
    "\n",
    "# plt.scatter(p_values, fidelity_values, label='Fidelity Values', alpha=0.6)\n",
    "\n",
    "# Plot the average fidelity for each p value\n",
    "avg_p = np.array(list(average_fidelity_by_p.keys()))\n",
    "avg_fidelity = np.array(list(average_fidelity_by_p.values()))\n",
    "plt.plot(avg_p, avg_fidelity, color='red', label='Average Fidelity', marker='o')\n",
    "\n",
    "# Add labels and title\n",
    "plt.xlabel('p')\n",
    "plt.ylabel('Fidelity')\n",
    "plt.title('Fidelity Values and Average Fidelity by p')\n",
    "plt.legend()\n",
    "plt.grid(True)\n",
    "\n",
    "# Show the plot\n",
    "plt.show()"
   ]
  },
  {
   "cell_type": "code",
   "execution_count": null,
   "metadata": {},
   "outputs": [],
   "source": []
  }
 ],
 "metadata": {
  "kernelspec": {
   "display_name": "Python 3",
   "language": "python",
   "name": "python3"
  },
  "language_info": {
   "codemirror_mode": {
    "name": "ipython",
    "version": 3
   },
   "file_extension": ".py",
   "mimetype": "text/x-python",
   "name": "python",
   "nbconvert_exporter": "python",
   "pygments_lexer": "ipython3",
   "version": "3.12.4"
  }
 },
 "nbformat": 4,
 "nbformat_minor": 2
}
