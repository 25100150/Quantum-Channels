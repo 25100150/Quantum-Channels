{
 "cells": [
  {
   "cell_type": "code",
   "execution_count": 124,
   "metadata": {},
   "outputs": [],
   "source": [
    "import qutip as qt\n",
    "import numpy as np\n",
    "import sympy as sp\n",
    "from qiskit import QuantumCircuit\n",
    "\n",
    "rho_0 = sp.Matrix([[1,0],[0,0]])\n",
    "rho_1 = sp.Matrix([[0,0],[0,1]])\n",
    "\n",
    "ket_0 = sp.Matrix([1,0])\n",
    "ket_1 = sp.Matrix([0,1])\n",
    "\n",
    "H = 1/sp.sqrt(2)*sp.Matrix([[1,1],[1,-1]])\n"
   ]
  },
  {
   "cell_type": "code",
   "execution_count": 125,
   "metadata": {},
   "outputs": [],
   "source": [
    "I = sp.Matrix([[1, 0], [0, 1]])\n",
    "X = sp.Matrix([[0, 1], [1, 0]])\n",
    "Y = sp.Matrix([[0, -sp.I], [sp.I, 0]])\n",
    "Z = sp.Matrix([[1, 0], [0, -1]])\n",
    "\n",
    "theta, phi, p = sp.symbols('theta phi p', real=True)\n",
    "a = sp.cos(theta / 2)\n",
    "b = sp.exp(sp.I * phi) * sp.sin(theta / 2)\n",
    "a_bar = sp.conjugate(a)\n",
    "b_bar = sp.conjugate(b)\n",
    "\n",
    "psi = a*ket_0 + b*ket_1\n",
    "\n",
    "psi_conj = psi.conjugate()\n",
    "psi_dg = psi_conj.transpose()\n",
    "\n",
    "rho_a = psi*psi_dg\n"
   ]
  },
  {
   "cell_type": "code",
   "execution_count": 126,
   "metadata": {},
   "outputs": [],
   "source": [
    "rho = sp.kronecker_product(rho_a,rho_0,rho_0,rho_0,rho_0,rho_0,rho_0,rho_0,rho_0)"
   ]
  },
  {
   "cell_type": "code",
   "execution_count": 127,
   "metadata": {},
   "outputs": [],
   "source": [
    "K_0 = sp.sqrt(p)*sp.kronecker_product(Z@X,Z@X,Z@X,Z@X,Z@X,Z@X,Z@X,Z@X,Z@X)\n",
    "K_1 = sp.sqrt(1-p)*sp.kronecker_product(I,I,I,I,I,I,I,I,I)\n"
   ]
  },
  {
   "cell_type": "code",
   "execution_count": 128,
   "metadata": {},
   "outputs": [],
   "source": [
    "U_1 = sp.kronecker_product(rho_0,I,I,I,I,I,I,I,I) + sp.kronecker_product(rho_1,I,I,X,I,I,I,I,I)\n",
    "U_2 = sp.kronecker_product(rho_0,I,I,I,I,I,I,I,I) + sp.kronecker_product(rho_1,I,I,I,I,I,X,I,I)\n",
    "rho_H = sp.kronecker_product(H,I,I,H,I,I,H,I,I)\n",
    "U_3 = (sp.kronecker_product(rho_0,I,I,I,I,I,I,I,I) + sp.kronecker_product(rho_1,X,I,I,I,I,I,I,I))*(sp.kronecker_product(I,I,I,rho_0,I,I,I,I,I) + sp.kronecker_product(I,I,I,rho_1,X,I,I,I,I))*(sp.kronecker_product(I,I,I,I,I,I,rho_0,I,I) + sp.kronecker_product(I,I,I,I,I,I,rho_1,X,I))\n",
    "U_4 = (sp.kronecker_product(rho_0,I,I,I,I,I,I,I,I) + sp.kronecker_product(rho_1,I,X,I,I,I,I,I,I))*(sp.kronecker_product(I,I,I,rho_0,I,I,I,I,I) + sp.kronecker_product(I,I,I,rho_1,I,X,I,I,I))*(sp.kronecker_product(I,I,I,I,I,I,rho_0,I,I) + sp.kronecker_product(I,I,I,I,I,I,rho_1,I,X))\n",
    "U_6 = U_3\n",
    "U_7 = U_4\n",
    "U_8 = sp.kronecker_product(I,rho_0,rho_0,I,I,I,I,I,I) + sp.kronecker_product(I,rho_0,rho_1,I,I,I,I,I,I) + sp.kronecker_product(I,rho_1,rho_0,I,I,I,I,I,I) + sp.kronecker_product(X,rho_1,rho_1,I,I,I,I,I,I) \n",
    "U_8 = U_8*(sp.kronecker_product(I,I,I,I,rho_0,rho_0,I,I,I) + sp.kronecker_product(I,I,I,I,rho_0,rho_1,I,I,I) + sp.kronecker_product(I,I,I,I,rho_1,rho_0,I,I,I) + sp.kronecker_product(I,I,I,X,rho_1,rho_1,I,I,I))\n",
    "U_8 = U_8*(sp.kronecker_product(I,I,I,I,I,I,I,rho_0,rho_0) + sp.kronecker_product(I,I,I,I,I,I,I,rho_0,rho_1) + sp.kronecker_product(I,I,I,I,I,I,I,rho_1,rho_0) + sp.kronecker_product(I,I,I,I,I,I,X,rho_1,rho_1))\n",
    "U_9 = U_1\n",
    "U_10 = U_2\n",
    "U_11 = sp.kronecker_product(I,I,I,rho_0,I,I,rho_0,I,I) + sp.kronecker_product(I,I,I,rho_0,I,I,rho_1,I,I) + sp.kronecker_product(I,I,I,rho_1,I,I,rho_0,I,I) + sp.kronecker_product(X,I,I,rho_1,I,I,rho_1,I,I) \n"
   ]
  },
  {
   "cell_type": "code",
   "execution_count": 129,
   "metadata": {},
   "outputs": [],
   "source": [
    "Ua = U_11*U_10*U_9*rho_H*U_8*U_7*U_6*K_0*U_4*U_3*rho_H*U_2*U_1\n",
    "Ub = U_11*U_10*U_9*rho_H*U_8*U_7*U_6*K_1*U_4*U_3*rho_H*U_2*U_1\n"
   ]
  },
  {
   "cell_type": "code",
   "execution_count": 130,
   "metadata": {},
   "outputs": [],
   "source": [
    "final = Ub@rho@Ub.transpose() + Ua@rho@Ua.transpose()\n"
   ]
  },
  {
   "cell_type": "code",
   "execution_count": 136,
   "metadata": {},
   "outputs": [],
   "source": [
    "import sympy as sp\n",
    "import itertools\n",
    "\n",
    "def partial_trace(rho, n, qubits_to_trace_out):\n",
    "    dim = 2 ** n\n",
    "    \n",
    "    # Define the indices for the new matrix\n",
    "    remaining_qubits = sorted(set(range(n)) - set(qubits_to_trace_out))\n",
    "    remaining_dim = 2 ** len(remaining_qubits)\n",
    "    \n",
    "    # Initialize the reduced density matrix\n",
    "    reduced_rho = sp.zeros(remaining_dim, remaining_dim)\n",
    "    \n",
    "    # Iterate over all possible states of the remaining qubits\n",
    "    for idx1, idx2 in itertools.product(range(remaining_dim), repeat=2):\n",
    "        idx1_bin = format(idx1, f'0{len(remaining_qubits)}b')\n",
    "        idx2_bin = format(idx2, f'0{len(remaining_qubits)}b')\n",
    "        \n",
    "        total_sum = 0\n",
    "        for trace_state in range(2 ** len(qubits_to_trace_out)):\n",
    "            trace_state_bin = format(trace_state, f'0{len(qubits_to_trace_out)}b')\n",
    "            \n",
    "            # Construct the full state for the original system\n",
    "            full_state1 = ['0'] * n\n",
    "            full_state2 = ['0'] * n\n",
    "            \n",
    "            for i, q in enumerate(remaining_qubits):\n",
    "                full_state1[q] = idx1_bin[i]\n",
    "                full_state2[q] = idx2_bin[i]\n",
    "            \n",
    "            for i, q in enumerate(qubits_to_trace_out):\n",
    "                full_state1[q] = trace_state_bin[i]\n",
    "                full_state2[q] = trace_state_bin[i]\n",
    "            \n",
    "            # Convert binary strings to indices\n",
    "            full_index1 = int(''.join(full_state1), 2)\n",
    "            full_index2 = int(''.join(full_state2), 2)\n",
    "            \n",
    "            total_sum += rho[full_index1, full_index2]\n",
    "        \n",
    "        reduced_rho[idx1, idx2] = total_sum\n",
    "    \n",
    "    return reduced_rho\n"
   ]
  },
  {
   "cell_type": "code",
   "execution_count": 137,
   "metadata": {},
   "outputs": [
    {
     "name": "stdout",
     "output_type": "stream",
     "text": [
      "Reduced density matrix for qubit:  {0} \n",
      " {Matrix([\n",
      "[          -2*p*cos(theta/2)**2 + p + cos(theta/2)**2, (-p*exp(2*I*phi) - p + 1)*exp(-I*phi)*sin(theta)/2],\n",
      "[(-p + (1 - p)*exp(2*I*phi))*exp(-I*phi)*sin(theta)/2,         -2*p*sin(theta/2)**2 + p + sin(theta/2)**2]])} \n",
      "\n",
      "Reduced density matrix for qubit:  {1} \n",
      " {Matrix([\n",
      "[1, 0],\n",
      "[0, 0]])} \n",
      "\n",
      "Reduced density matrix for qubit:  {2} \n",
      " {Matrix([\n",
      "[1, 0],\n",
      "[0, 0]])} \n",
      "\n",
      "Reduced density matrix for qubit:  {3} \n",
      " {Matrix([\n",
      "[1, 0],\n",
      "[0, 0]])} \n",
      "\n",
      "Reduced density matrix for qubit:  {4} \n",
      " {Matrix([\n",
      "[1, 0],\n",
      "[0, 0]])} \n",
      "\n",
      "Reduced density matrix for qubit:  {5} \n",
      " {Matrix([\n",
      "[1, 0],\n",
      "[0, 0]])} \n",
      "\n",
      "Reduced density matrix for qubit:  {6} \n",
      " {Matrix([\n",
      "[1, 0],\n",
      "[0, 0]])} \n",
      "\n",
      "Reduced density matrix for qubit:  {7} \n",
      " {Matrix([\n",
      "[1, 0],\n",
      "[0, 0]])} \n",
      "\n",
      "Reduced density matrix for qubit:  {8} \n",
      " {Matrix([\n",
      "[1, 0],\n",
      "[0, 0]])} \n",
      "\n"
     ]
    }
   ],
   "source": [
    "def trace_each_qubit(final_state, total_qubits):\n",
    "    for qubit in range(total_qubits):\n",
    "        qubits_to_trace_out = [i for i in range(total_qubits) if i != qubit]\n",
    "\n",
    "        reduced_rho = partial_trace(final_state, total_qubits, qubits_to_trace_out)\n",
    "        \n",
    "        reduced_rho = sp.simplify(reduced_rho)\n",
    "\n",
    "        print(\"Reduced density matrix for qubit: \",  {qubit}, '\\n', {reduced_rho}, '\\n')\n",
    "\n",
    "n = 9\n",
    "trace_each_qubit(final, n)\n"
   ]
  },
  {
   "cell_type": "code",
   "execution_count": 139,
   "metadata": {},
   "outputs": [
    {
     "data": {
      "text/latex": [
       "$\\displaystyle \\left[\\begin{matrix}- 2 p \\cos^{2}{\\left(\\frac{\\theta}{2} \\right)} + p + \\cos^{2}{\\left(\\frac{\\theta}{2} \\right)} & \\frac{\\left(- p e^{2 i \\phi} - p + 1\\right) e^{- i \\phi} \\sin{\\left(\\theta \\right)}}{2}\\\\\\frac{\\left(- p + \\left(1 - p\\right) e^{2 i \\phi}\\right) e^{- i \\phi} \\sin{\\left(\\theta \\right)}}{2} & - 2 p \\sin^{2}{\\left(\\frac{\\theta}{2} \\right)} + p + \\sin^{2}{\\left(\\frac{\\theta}{2} \\right)}\\end{matrix}\\right]$"
      ],
      "text/plain": [
       "Matrix([\n",
       "[          -2*p*cos(theta/2)**2 + p + cos(theta/2)**2, (-p*exp(2*I*phi) - p + 1)*exp(-I*phi)*sin(theta)/2],\n",
       "[(-p + (1 - p)*exp(2*I*phi))*exp(-I*phi)*sin(theta)/2,         -2*p*sin(theta/2)**2 + p + sin(theta/2)**2]])"
      ]
     },
     "execution_count": 139,
     "metadata": {},
     "output_type": "execute_result"
    }
   ],
   "source": [
    "n=9\n",
    "qubits_to_trace_out = [1,2,3,4,5,6,7,8]\n",
    "\n",
    "# Compute the reduced density matrix\n",
    "reduced_rho = partial_trace(final, n, qubits_to_trace_out)\n",
    "\n",
    "reduced_rho = sp.simplify(reduced_rho)\n",
    "reduced_rho"
   ]
  },
  {
   "cell_type": "code",
   "execution_count": 140,
   "metadata": {},
   "outputs": [
    {
     "data": {
      "text/latex": [
       "$\\displaystyle \\left[\\begin{matrix}- \\frac{p e^{2 i \\phi} \\sin^{2}{\\left(\\theta \\right)}}{4} + \\frac{p \\sin^{2}{\\left(\\theta \\right)}}{2} - p - \\frac{p e^{- 2 i \\phi} \\sin^{2}{\\left(\\theta \\right)}}{4} + 1\\end{matrix}\\right]$"
      ],
      "text/plain": [
       "Matrix([[-p*exp(2*I*phi)*sin(theta)**2/4 + p*sin(theta)**2/2 - p - p*exp(-2*I*phi)*sin(theta)**2/4 + 1]])"
      ]
     },
     "execution_count": 140,
     "metadata": {},
     "output_type": "execute_result"
    }
   ],
   "source": [
    "fidelity = psi_dg*reduced_rho*psi\n",
    "\n",
    "sp.simplify(fidelity)"
   ]
  },
  {
   "cell_type": "code",
   "execution_count": 141,
   "metadata": {},
   "outputs": [
    {
     "data": {
      "text/latex": [
       "$\\displaystyle \\left[\\begin{matrix}\\frac{2}{3}\\end{matrix}\\right]$"
      ],
      "text/plain": [
       "Matrix([[2/3]])"
      ]
     },
     "execution_count": 141,
     "metadata": {},
     "output_type": "execute_result"
    }
   ],
   "source": [
    "\n",
    "integral = sp.integrate(fidelity * sp.sin(theta), (theta, 0, sp.pi), (phi, 0, 2*sp.pi), (p, 0, 1))\n",
    "\n",
    "normalized_integral = integral / (4 * sp.pi)\n",
    "normalized_integral.simplify()\n"
   ]
  },
  {
   "cell_type": "code",
   "execution_count": null,
   "metadata": {},
   "outputs": [],
   "source": []
  }
 ],
 "metadata": {
  "kernelspec": {
   "display_name": "Python 3",
   "language": "python",
   "name": "python3"
  },
  "language_info": {
   "codemirror_mode": {
    "name": "ipython",
    "version": 3
   },
   "file_extension": ".py",
   "mimetype": "text/x-python",
   "name": "python",
   "nbconvert_exporter": "python",
   "pygments_lexer": "ipython3",
   "version": "3.12.4"
  }
 },
 "nbformat": 4,
 "nbformat_minor": 2
}
