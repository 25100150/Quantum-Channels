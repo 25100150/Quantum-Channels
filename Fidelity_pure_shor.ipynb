{
 "cells": [
  {
   "cell_type": "code",
   "execution_count": 1,
   "metadata": {},
   "outputs": [],
   "source": [
    "import qutip as qt\n",
    "import numpy as np\n",
    "import sympy as sp\n",
    "from qiskit import QuantumCircuit\n",
    "\n",
    "rho_0 = sp.Matrix([[1,0],[0,0]])\n",
    "rho_1 = sp.Matrix([[0,0],[0,1]])\n",
    "\n",
    "ket_0 = sp.Matrix([1,0])\n",
    "ket_1 = sp.Matrix([0,1])\n",
    "\n",
    "H = 1/sp.sqrt(2)*sp.Matrix([[1,1],[1,-1]])\n"
   ]
  },
  {
   "cell_type": "code",
   "execution_count": 2,
   "metadata": {},
   "outputs": [
    {
     "data": {
      "text/latex": [
       "$\\displaystyle \\left[\\begin{matrix}\\cos^{2}{\\left(\\frac{\\theta}{2} \\right)} & e^{- i \\phi} \\sin{\\left(\\frac{\\theta}{2} \\right)} \\cos{\\left(\\frac{\\theta}{2} \\right)}\\\\e^{i \\phi} \\sin{\\left(\\frac{\\theta}{2} \\right)} \\cos{\\left(\\frac{\\theta}{2} \\right)} & \\sin^{2}{\\left(\\frac{\\theta}{2} \\right)}\\end{matrix}\\right]$"
      ],
      "text/plain": [
       "Matrix([\n",
       "[                     cos(theta/2)**2, exp(-I*phi)*sin(theta/2)*cos(theta/2)],\n",
       "[exp(I*phi)*sin(theta/2)*cos(theta/2),                       sin(theta/2)**2]])"
      ]
     },
     "execution_count": 2,
     "metadata": {},
     "output_type": "execute_result"
    }
   ],
   "source": [
    "I = sp.Matrix([[1, 0], [0, 1]])\n",
    "X = sp.Matrix([[0, 1], [1, 0]])\n",
    "Y = sp.Matrix([[0, -sp.I], [sp.I, 0]])\n",
    "Z = sp.Matrix([[1, 0], [0, -1]])\n",
    "\n",
    "theta, phi, p = sp.symbols('theta phi p')\n",
    "a = sp.cos(theta / 2)\n",
    "b = sp.exp(sp.I * phi) * sp.sin(theta / 2)\n",
    "a_bar = a\n",
    "b_bar = sp.exp(-sp.I * phi) * sp.sin(theta / 2)\n",
    "\n",
    "psi = a*ket_0 + b*ket_1\n",
    "\n",
    "psi_conj = a_bar*ket_0 + b_bar*ket_1\n",
    "psi_dg = psi_conj.transpose()\n",
    "\n",
    "rho_a = psi@psi_dg\n",
    "rho_a"
   ]
  },
  {
   "cell_type": "code",
   "execution_count": 3,
   "metadata": {},
   "outputs": [],
   "source": [
    "rho = sp.kronecker_product(rho_a,rho_0,rho_0,rho_0,rho_0,rho_0,rho_0,rho_0,rho_0)"
   ]
  },
  {
   "cell_type": "code",
   "execution_count": 4,
   "metadata": {},
   "outputs": [],
   "source": [
    "angle = sp.pi / 9\n",
    "\n",
    "# Define the rotation matrix R_y(theta)\n",
    "R_y = sp.Matrix([\n",
    "    [sp.cos(angle/2), -sp.sin(angle/2)],\n",
    "    [sp.sin(angle/2), sp.cos(angle/2)]\n",
    "])"
   ]
  },
  {
   "cell_type": "code",
   "execution_count": 45,
   "metadata": {},
   "outputs": [],
   "source": [
    "# K_0 = sp.sqrt(p)*sp.kronecker_product(X@Z,X@Z,X@Z,X@Z,Z@X,I,I,I,I)   #F = 1\n",
    "\n",
    "# K_0 = sp.sqrt(p)*sp.kronecker_product(X@Z,X@Z,X@Z,X@Z,X@Z,X@Z,X@Z,X@Z,X@Z) #F = 2/3\n",
    "\n",
    "K_0 = sp.sqrt(p)*sp.kronecker_product(R_y,R_y,I,I,I,I,I,I,I) #F = 0.997\n",
    "K_1 = sp.sqrt(1-p)*sp.kronecker_product(I,I,I,I,I,I,I,I,I)\n"
   ]
  },
  {
   "cell_type": "code",
   "execution_count": 46,
   "metadata": {},
   "outputs": [],
   "source": [
    "U_1 = sp.kronecker_product(rho_0,I,I,I,I,I,I,I,I) + sp.kronecker_product(rho_1,I,I,X,I,I,I,I,I)\n",
    "U_2 = sp.kronecker_product(rho_0,I,I,I,I,I,I,I,I) + sp.kronecker_product(rho_1,I,I,I,I,I,X,I,I)\n",
    "rho_H = sp.kronecker_product(H,I,I,H,I,I,H,I,I)\n",
    "U_3 = (sp.kronecker_product(rho_0,I,I,I,I,I,I,I,I) + sp.kronecker_product(rho_1,X,I,I,I,I,I,I,I))*(sp.kronecker_product(I,I,I,rho_0,I,I,I,I,I) + sp.kronecker_product(I,I,I,rho_1,X,I,I,I,I))*(sp.kronecker_product(I,I,I,I,I,I,rho_0,I,I) + sp.kronecker_product(I,I,I,I,I,I,rho_1,X,I))\n",
    "U_4 = (sp.kronecker_product(rho_0,I,I,I,I,I,I,I,I) + sp.kronecker_product(rho_1,I,X,I,I,I,I,I,I))*(sp.kronecker_product(I,I,I,rho_0,I,I,I,I,I) + sp.kronecker_product(I,I,I,rho_1,I,X,I,I,I))*(sp.kronecker_product(I,I,I,I,I,I,rho_0,I,I) + sp.kronecker_product(I,I,I,I,I,I,rho_1,I,X))\n",
    "U_6 = U_3\n",
    "U_7 = U_4\n",
    "U_8 = sp.kronecker_product(I,rho_0,rho_0,I,I,I,I,I,I) + sp.kronecker_product(I,rho_0,rho_1,I,I,I,I,I,I) + sp.kronecker_product(I,rho_1,rho_0,I,I,I,I,I,I) + sp.kronecker_product(X,rho_1,rho_1,I,I,I,I,I,I) \n",
    "U_8 = U_8*(sp.kronecker_product(I,I,I,I,rho_0,rho_0,I,I,I) + sp.kronecker_product(I,I,I,I,rho_0,rho_1,I,I,I) + sp.kronecker_product(I,I,I,I,rho_1,rho_0,I,I,I) + sp.kronecker_product(I,I,I,X,rho_1,rho_1,I,I,I))\n",
    "U_8 = U_8*(sp.kronecker_product(I,I,I,I,I,I,I,rho_0,rho_0) + sp.kronecker_product(I,I,I,I,I,I,I,rho_0,rho_1) + sp.kronecker_product(I,I,I,I,I,I,I,rho_1,rho_0) + sp.kronecker_product(I,I,I,I,I,I,X,rho_1,rho_1))\n",
    "U_9 = U_1\n",
    "U_10 = U_2\n",
    "U_11 = sp.kronecker_product(I,I,I,rho_0,I,I,rho_0,I,I) + sp.kronecker_product(I,I,I,rho_0,I,I,rho_1,I,I) + sp.kronecker_product(I,I,I,rho_1,I,I,rho_0,I,I) + sp.kronecker_product(X,I,I,rho_1,I,I,rho_1,I,I) \n"
   ]
  },
  {
   "cell_type": "code",
   "execution_count": 47,
   "metadata": {},
   "outputs": [],
   "source": [
    "Ua = U_11*U_10*U_9*rho_H*U_8*U_7*U_6*K_0*U_4*U_3*rho_H*U_2*U_1\n",
    "Ub = U_11*U_10*U_9*rho_H*U_8*U_7*U_6*K_1*U_4*U_3*rho_H*U_2*U_1\n"
   ]
  },
  {
   "cell_type": "code",
   "execution_count": 48,
   "metadata": {},
   "outputs": [],
   "source": [
    "final = Ub@rho@Ub.transpose() + Ua@rho@Ua.transpose()\n"
   ]
  },
  {
   "cell_type": "code",
   "execution_count": 49,
   "metadata": {},
   "outputs": [
    {
     "data": {
      "text/latex": [
       "$\\displaystyle \\left[\\begin{matrix}\\left(- 2 p \\sin^{2}{\\left(\\frac{\\pi}{18} \\right)} + 2 p \\sin^{4}{\\left(\\frac{\\pi}{18} \\right)} + \\frac{p \\sin^{2}{\\left(\\frac{\\pi}{9} \\right)}}{2} + 1\\right) \\cos^{2}{\\left(\\frac{\\theta}{2} \\right)} & \\left(- 2 p \\sin^{2}{\\left(\\frac{\\pi}{18} \\right)} + \\frac{p \\sin^{2}{\\left(\\frac{\\pi}{9} \\right)}}{2} + 1\\right) e^{- i \\phi} \\sin{\\left(\\frac{\\theta}{2} \\right)} \\cos{\\left(\\frac{\\theta}{2} \\right)}\\\\\\left(- 2 p \\sin^{2}{\\left(\\frac{\\pi}{18} \\right)} + \\frac{p \\sin^{2}{\\left(\\frac{\\pi}{9} \\right)}}{2} + 1\\right) e^{i \\phi} \\sin{\\left(\\frac{\\theta}{2} \\right)} \\cos{\\left(\\frac{\\theta}{2} \\right)} & \\left(- 2 p \\sin^{2}{\\left(\\frac{\\pi}{18} \\right)} + 2 p \\sin^{4}{\\left(\\frac{\\pi}{18} \\right)} + \\frac{p \\sin^{2}{\\left(\\frac{\\pi}{9} \\right)}}{2} + 1\\right) \\sin^{2}{\\left(\\frac{\\theta}{2} \\right)}\\end{matrix}\\right]$"
      ],
      "text/plain": [
       "Matrix([\n",
       "[ (-2*p*sin(pi/18)**2 + 2*p*sin(pi/18)**4 + p*sin(pi/9)**2/2 + 1)*cos(theta/2)**2, (-2*p*sin(pi/18)**2 + p*sin(pi/9)**2/2 + 1)*exp(-I*phi)*sin(theta/2)*cos(theta/2)],\n",
       "[(-2*p*sin(pi/18)**2 + p*sin(pi/9)**2/2 + 1)*exp(I*phi)*sin(theta/2)*cos(theta/2),   (-2*p*sin(pi/18)**2 + 2*p*sin(pi/18)**4 + p*sin(pi/9)**2/2 + 1)*sin(theta/2)**2]])"
      ]
     },
     "execution_count": 49,
     "metadata": {},
     "output_type": "execute_result"
    }
   ],
   "source": [
    "import sympy as sp\n",
    "import itertools\n",
    "\n",
    "def partial_trace(rho, n, qubits_to_trace_out):\n",
    "    dim = 2 ** n\n",
    "    \n",
    "    # Define the indices for the new matrix\n",
    "    remaining_qubits = sorted(set(range(n)) - set(qubits_to_trace_out))\n",
    "    remaining_dim = 2 ** len(remaining_qubits)\n",
    "    \n",
    "    # Initialize the reduced density matrix\n",
    "    reduced_rho = sp.zeros(remaining_dim, remaining_dim)\n",
    "    \n",
    "    # Iterate over all possible states of the remaining qubits\n",
    "    for idx1, idx2 in itertools.product(range(remaining_dim), repeat=2):\n",
    "        idx1_bin = format(idx1, f'0{len(remaining_qubits)}b')\n",
    "        idx2_bin = format(idx2, f'0{len(remaining_qubits)}b')\n",
    "        \n",
    "        total_sum = 0\n",
    "        for trace_state in range(2 ** len(qubits_to_trace_out)):\n",
    "            trace_state_bin = format(trace_state, f'0{len(qubits_to_trace_out)}b')\n",
    "            \n",
    "            # Construct the full state for the original system\n",
    "            full_state1 = ['0'] * n\n",
    "            full_state2 = ['0'] * n\n",
    "            \n",
    "            for i, q in enumerate(remaining_qubits):\n",
    "                full_state1[q] = idx1_bin[i]\n",
    "                full_state2[q] = idx2_bin[i]\n",
    "            \n",
    "            for i, q in enumerate(qubits_to_trace_out):\n",
    "                full_state1[q] = trace_state_bin[i]\n",
    "                full_state2[q] = trace_state_bin[i]\n",
    "            \n",
    "            # Convert binary strings to indices\n",
    "            full_index1 = int(''.join(full_state1), 2)\n",
    "            full_index2 = int(''.join(full_state2), 2)\n",
    "            \n",
    "            total_sum += rho[full_index1, full_index2]\n",
    "        \n",
    "        reduced_rho[idx1, idx2] = total_sum\n",
    "    \n",
    "    return reduced_rho\n",
    "\n",
    "n=9\n",
    "qubits_to_trace_out = [1,2,3,4,5,6,7,8]\n",
    "\n",
    "# Compute the reduced density matrix\n",
    "reduced_rho = partial_trace(final, n, qubits_to_trace_out)\n",
    "\n",
    "reduced_rho = sp.simplify(reduced_rho)\n",
    "# sp.simplify(reduced_rho)\n",
    "reduced_rho\n"
   ]
  },
  {
   "cell_type": "code",
   "execution_count": 50,
   "metadata": {},
   "outputs": [
    {
     "data": {
      "text/latex": [
       "$\\displaystyle \\left[\\begin{matrix}4 p \\sin^{4}{\\left(\\frac{\\pi}{18} \\right)} \\sin^{4}{\\left(\\frac{\\theta}{2} \\right)} - 4 p \\sin^{4}{\\left(\\frac{\\pi}{18} \\right)} \\sin^{2}{\\left(\\frac{\\theta}{2} \\right)} - 2 p \\sin^{2}{\\left(\\frac{\\pi}{18} \\right)} + 2 p \\sin^{4}{\\left(\\frac{\\pi}{18} \\right)} + \\frac{p \\sin^{2}{\\left(\\frac{\\pi}{9} \\right)}}{2} + 1\\end{matrix}\\right]$"
      ],
      "text/plain": [
       "Matrix([[4*p*sin(pi/18)**4*sin(theta/2)**4 - 4*p*sin(pi/18)**4*sin(theta/2)**2 - 2*p*sin(pi/18)**2 + 2*p*sin(pi/18)**4 + p*sin(pi/9)**2/2 + 1]])"
      ]
     },
     "execution_count": 50,
     "metadata": {},
     "output_type": "execute_result"
    }
   ],
   "source": [
    "fidelity = psi_dg@reduced_rho@psi\n",
    "\n",
    "# sp.simplify(fidelity)\n",
    "F = sp.simplify(fidelity)\n",
    "F"
   ]
  },
  {
   "cell_type": "code",
   "execution_count": 51,
   "metadata": {},
   "outputs": [],
   "source": [
    "\n",
    "phi_limits = (phi, 0, 2*sp.pi)\n",
    "integral_phi = sp.integrate(F, phi_limits)\n",
    "\n"
   ]
  },
  {
   "cell_type": "code",
   "execution_count": 52,
   "metadata": {},
   "outputs": [],
   "source": [
    "\n",
    "integrand_theta = integral_phi * sp.sin(theta)\n",
    "theta_limits = (theta, 0, sp.pi)\n",
    "integral_theta = sp.integrate(integrand_theta, theta_limits)\n",
    "\n"
   ]
  },
  {
   "cell_type": "code",
   "execution_count": 53,
   "metadata": {},
   "outputs": [],
   "source": [
    "p_limits = (p, 0, 1)\n",
    "integral_p = sp.integrate(integral_theta, p_limits)\n",
    "\n",
    "\n",
    "normalized_integral = integral_p / (4 * sp.pi)\n",
    "normalized_integral = sp.simplify(normalized_integral)"
   ]
  },
  {
   "cell_type": "code",
   "execution_count": 54,
   "metadata": {},
   "outputs": [
    {
     "data": {
      "text/latex": [
       "$\\displaystyle \\left[\\begin{matrix}- \\sin^{2}{\\left(\\frac{\\pi}{18} \\right)} + \\frac{2 \\sin^{4}{\\left(\\frac{\\pi}{18} \\right)}}{3} + \\frac{\\sin^{2}{\\left(\\frac{\\pi}{9} \\right)}}{4} + 1\\end{matrix}\\right]$"
      ],
      "text/plain": [
       "Matrix([[-sin(pi/18)**2 + 2*sin(pi/18)**4/3 + sin(pi/9)**2/4 + 1]])"
      ]
     },
     "execution_count": 54,
     "metadata": {},
     "output_type": "execute_result"
    }
   ],
   "source": [
    "normalized_integral"
   ]
  }
 ],
 "metadata": {
  "kernelspec": {
   "display_name": "Python 3",
   "language": "python",
   "name": "python3"
  },
  "language_info": {
   "codemirror_mode": {
    "name": "ipython",
    "version": 3
   },
   "file_extension": ".py",
   "mimetype": "text/x-python",
   "name": "python",
   "nbconvert_exporter": "python",
   "pygments_lexer": "ipython3",
   "version": "3.12.4"
  }
 },
 "nbformat": 4,
 "nbformat_minor": 2
}
