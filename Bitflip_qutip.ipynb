{
 "cells": [
  {
   "cell_type": "code",
   "execution_count": 29,
   "metadata": {},
   "outputs": [
    {
     "data": {
      "text/latex": [
       "Quantum object: dims=[[2], [2]], shape=(2, 2), type='oper', dtype=CSR, isherm=True$$\\left(\\begin{array}{cc}0.500 & 0.250\\\\0.250 & 0.500\\end{array}\\right)$$"
      ],
      "text/plain": [
       "Quantum object: dims=[[2], [2]], shape=(2, 2), type='oper', dtype=CSR, isherm=True\n",
       "Qobj data =\n",
       "[[0.5  0.25]\n",
       " [0.25 0.5 ]]"
      ]
     },
     "execution_count": 29,
     "metadata": {},
     "output_type": "execute_result"
    }
   ],
   "source": [
    "from qutip import *\n",
    "import numpy as np\n",
    "import sympy as sp\n",
    "from qiskit import QuantumCircuit\n",
    "\n",
    "rho_0 = Qobj([[1,0],[0,0]])\n",
    "rho_1 = Qobj([[0,0],[0,1]])\n",
    "\n",
    "I =  qeye(2)\n",
    "X = sigmax()\n",
    "Y = sigmay()\n",
    "Z = sigmaz()\n",
    "\n",
    "c = 1/np.sqrt(1)\n",
    "\n",
    "r = c*np.array([0.5,0,0])       #[rx,ry,rz]\n",
    "\n",
    "rho_a = 1/2*(I+r[0]*X + r[1]*Y + r[2]*Z)\n",
    "# rho_a = Qobj([[0,0],[0,1]])\n",
    "\n",
    "rho = tensor(rho_a,rho_0,rho_0)\n",
    "rho_a\n"
   ]
  },
  {
   "cell_type": "code",
   "execution_count": 30,
   "metadata": {},
   "outputs": [],
   "source": [
    "def some(n=3, name='xh'):\n",
    "    qc = QuantumCircuit(n, name=name)\n",
    "    qc.x(0)\n",
    "    qc.x(0)\n",
    "    return qc\n",
    "\n",
    "U_gate = some().to_gate()\n",
    "U_gate.label = \"Error\"\n"
   ]
  },
  {
   "cell_type": "code",
   "execution_count": 31,
   "metadata": {},
   "outputs": [
    {
     "data": {
      "image/png": "[encoded data removed]",
      "text/plain": [
       "<Figure size 1040x284.278 with 1 Axes>"
      ]
     },
     "execution_count": 31,
     "metadata": {},
     "output_type": "execute_result"
    }
   ],
   "source": [
    "qc = QuantumCircuit(3)\n",
    "\n",
    "qc.cx(0,1)\n",
    "qc.cx(0,1)\n",
    "\n",
    "qc.h([0,1,2])\n",
    "qc.barrier()\n",
    "qc.append(U_gate,[0,1,2])\n",
    "qc.barrier()\n",
    "\n",
    "qc.h([0,1,2])\n",
    "qc.cx(0,1)\n",
    "qc.cx(0,2)\n",
    "qc.ccx(1,2,0)\n",
    "\n",
    "qc.draw('mpl')"
   ]
  },
  {
   "cell_type": "markdown",
   "metadata": {},
   "source": [
    "Assuming perfect error correction\n"
   ]
  },
  {
   "cell_type": "code",
   "execution_count": 3,
   "metadata": {},
   "outputs": [],
   "source": [
    "p = 0.5\n",
    "K_0 = np.sqrt(p)*tensor(X,X,X)\n",
    "K_1 = np.sqrt(1-p)*tensor(I,I,I)\n"
   ]
  },
  {
   "cell_type": "code",
   "execution_count": 4,
   "metadata": {},
   "outputs": [],
   "source": [
    "\n",
    "U_1 = tensor(rho_0,I,I) + tensor(rho_1,X,I)\n",
    "U_2 = tensor(rho_0,I,I) + tensor(rho_1,I,X)\n",
    "U_4 = U_1\n",
    "U_5 = U_2\n",
    "U_6 = tensor(I,rho_0,rho_0) + tensor(I,rho_0,rho_1) + tensor(I,rho_1,rho_0) + tensor(X,rho_1,rho_1)"
   ]
  },
  {
   "cell_type": "code",
   "execution_count": 5,
   "metadata": {},
   "outputs": [],
   "source": [
    "Ua = U_6@U_5@U_4@K_0@U_2@U_1\n",
    "Ub = U_6@U_5@U_4@K_1@U_2@U_1\n",
    "\n"
   ]
  },
  {
   "cell_type": "code",
   "execution_count": 6,
   "metadata": {},
   "outputs": [
    {
     "data": {
      "text/latex": [
       "Quantum object: dims=[[2, 2, 2], [2, 2, 2]], shape=(8, 8), type='oper', dtype=Dense, isherm=True$$\\left(\\begin{array}{cc}0.500 & 0 & 0 & 0 & 0.250 & 0 & 0 & 0\\\\0 & 0 & 0 & 0 & 0 & 0 & 0 & 0\\\\0 & 0 & 0 & 0 & 0 & 0 & 0 & 0\\\\0 & 0 & 0 & 0 & 0 & 0 & 0 & 0\\\\0.250 & 0 & 0 & 0 & 0.500 & 0 & 0 & 0\\\\0 & 0 & 0 & 0 & 0 & 0 & 0 & 0\\\\0 & 0 & 0 & 0 & 0 & 0 & 0 & 0\\\\0 & 0 & 0 & 0 & 0 & 0 & 0 & 0\\end{array}\\right)$$"
      ],
      "text/plain": [
       "Quantum object: dims=[[2, 2, 2], [2, 2, 2]], shape=(8, 8), type='oper', dtype=Dense, isherm=True\n",
       "Qobj data =\n",
       "[[0.5  0.   0.   0.   0.25 0.   0.   0.  ]\n",
       " [0.   0.   0.   0.   0.   0.   0.   0.  ]\n",
       " [0.   0.   0.   0.   0.   0.   0.   0.  ]\n",
       " [0.   0.   0.   0.   0.   0.   0.   0.  ]\n",
       " [0.25 0.   0.   0.   0.5  0.   0.   0.  ]\n",
       " [0.   0.   0.   0.   0.   0.   0.   0.  ]\n",
       " [0.   0.   0.   0.   0.   0.   0.   0.  ]\n",
       " [0.   0.   0.   0.   0.   0.   0.   0.  ]]"
      ]
     },
     "execution_count": 6,
     "metadata": {},
     "output_type": "execute_result"
    }
   ],
   "source": [
    "final = Ub@rho@Ub.trans() + Ua@rho@Ua.trans()\n",
    "final\n",
    "# d"
   ]
  },
  {
   "cell_type": "code",
   "execution_count": 7,
   "metadata": {},
   "outputs": [
    {
     "data": {
      "text/latex": [
       "Quantum object: dims=[[2], [2]], shape=(2, 2), type='oper', dtype=Dense, isherm=True$$\\left(\\begin{array}{cc}0.500 & 0.250\\\\0.250 & 0.500\\end{array}\\right)$$"
      ],
      "text/plain": [
       "Quantum object: dims=[[2], [2]], shape=(2, 2), type='oper', dtype=Dense, isherm=True\n",
       "Qobj data =\n",
       "[[0.5  0.25]\n",
       " [0.25 0.5 ]]"
      ]
     },
     "execution_count": 7,
     "metadata": {},
     "output_type": "execute_result"
    }
   ],
   "source": [
    "reduced_rho = final.ptrace(0)\n",
    "reduced_rho"
   ]
  },
  {
   "cell_type": "code",
   "execution_count": 8,
   "metadata": {},
   "outputs": [
    {
     "data": {
      "text/latex": [
       "Quantum object: dims=[[2], [2]], shape=(2, 2), type='oper', dtype=CSR, isherm=True$$\\left(\\begin{array}{cc}0.500 & 0.250\\\\0.250 & 0.500\\end{array}\\right)$$"
      ],
      "text/plain": [
       "Quantum object: dims=[[2], [2]], shape=(2, 2), type='oper', dtype=CSR, isherm=True\n",
       "Qobj data =\n",
       "[[0.5  0.25]\n",
       " [0.25 0.5 ]]"
      ]
     },
     "execution_count": 8,
     "metadata": {},
     "output_type": "execute_result"
    }
   ],
   "source": [
    "rho_a"
   ]
  },
  {
   "cell_type": "code",
   "execution_count": 9,
   "metadata": {},
   "outputs": [
    {
     "data": {
      "text/plain": [
       "0.9999999999999998"
      ]
     },
     "execution_count": 9,
     "metadata": {},
     "output_type": "execute_result"
    }
   ],
   "source": [
    "fidelity(rho_a,reduced_rho)"
   ]
  },
  {
   "cell_type": "code",
   "execution_count": 20,
   "metadata": {},
   "outputs": [],
   "source": [
    "def bitflip(x,y,z,p):\n",
    "\n",
    "    rho_0 = Qobj([[1,0],[0,0]])\n",
    "    rho_1 = Qobj([[0,0],[0,1]])\n",
    "\n",
    "    I =  qeye(2)\n",
    "    X = sigmax()\n",
    "    Y = sigmay()\n",
    "    Z = sigmaz()\n",
    "\n",
    "    rho_initial = 1/2*(I+x*X + y*Y + z*Z)\n",
    "    # rho_a = Qobj([[0,0],[0,1]])\n",
    "\n",
    "    rho = tensor(rho_initial,rho_0,rho_0)\n",
    "\n",
    "    #Defining the Kraus operators corresponding to the error\n",
    "    K_0 = np.sqrt(p)*tensor(X,X,X)\n",
    "    K_1 = np.sqrt(1-p)*tensor(I,I,I)\n",
    "\n",
    "    #defining the gates corresponding to the bit flip circuit\n",
    "    U_1 = tensor(rho_0,I,I) + tensor(rho_1,X,I)\n",
    "    U_2 = tensor(rho_0,I,I) + tensor(rho_1,I,X)\n",
    "    U_4 = U_1\n",
    "    U_5 = U_2\n",
    "    U_6 = tensor(I,rho_0,rho_0) + tensor(I,rho_0,rho_1) + tensor(I,rho_1,rho_0) + tensor(X,rho_1,rho_1)\n",
    "\n",
    "    Ua = U_6@U_5@U_4@K_0@U_2@U_1\n",
    "    Ub = U_6@U_5@U_4@K_1@U_2@U_1\n",
    "\n",
    "    final = Ub@rho@Ub.trans() + Ua@rho@Ua.trans()\n",
    "    reduced_rho = final.ptrace(0)\n",
    "\n",
    "    ans = fidelity(rho_initial,reduced_rho)\n",
    "    return  ans"
   ]
  },
  {
   "cell_type": "code",
   "execution_count": 21,
   "metadata": {},
   "outputs": [
    {
     "data": {
      "text/plain": [
       "0.9342961961794154"
      ]
     },
     "execution_count": 21,
     "metadata": {},
     "output_type": "execute_result"
    }
   ],
   "source": [
    "ans = bitflip(0.5,0,0.5,0.7)\n",
    "ans"
   ]
  },
  {
   "cell_type": "code",
   "execution_count": 22,
   "metadata": {},
   "outputs": [],
   "source": [
    "def generate_fidelity_data(bitflip, step):\n",
    "    # Initialize an empty list to store the results\n",
    "    fidelity_data = []\n",
    "\n",
    "    # Iterate over values of x, y, z\n",
    "    for x in np.arange(-1, 1 + step, step):\n",
    "        \n",
    "        for y in np.arange(-1, 1 + step, step):\n",
    "\n",
    "            for z in np.arange(-1, 1 + step, step):\n",
    "                if x**2 + y**2 + z**2 <= 1:\n",
    "                    \n",
    "                    for p in np.arange(0, 1 + step, step):\n",
    "                        fidelity = bitflip(x, y, z, p)\n",
    "                        fidelity_data.append((x, y, z, p, fidelity))\n",
    "    \n",
    "    return fidelity_data"
   ]
  },
  {
   "cell_type": "code",
   "execution_count": 23,
   "metadata": {},
   "outputs": [],
   "source": [
    "fidelity_results = generate_fidelity_data(bitflip, 0.1)\n",
    "# print(np.size(fidelity_results))"
   ]
  },
  {
   "cell_type": "code",
   "execution_count": 25,
   "metadata": {},
   "outputs": [
    {
     "name": "stdout",
     "output_type": "stream",
     "text": [
      "(45793, 5)\n"
     ]
    }
   ],
   "source": [
    "print(np.shape(fidelity_results))"
   ]
  },
  {
   "cell_type": "code",
   "execution_count": 26,
   "metadata": {},
   "outputs": [],
   "source": [
    "fidelity_data = np.array(fidelity_results)\n",
    "\n",
    "# Extract the p values and fidelity values\n",
    "p_values = fidelity_data[:, 3]\n",
    "fidelity_values = fidelity_data[:, 4]\n",
    "\n",
    "# Get the unique p values\n",
    "unique_p_values = np.unique(p_values)\n"
   ]
  },
  {
   "cell_type": "code",
   "execution_count": 27,
   "metadata": {},
   "outputs": [
    {
     "name": "stdout",
     "output_type": "stream",
     "text": [
      "Average Fidelity for p=0.0: 1.0\n",
      "Average Fidelity for p=0.1: 0.994\n",
      "Average Fidelity for p=0.2: 0.983\n",
      "Average Fidelity for p=0.3: 0.968\n",
      "Average Fidelity for p=0.4: 0.95\n",
      "Average Fidelity for p=0.5: 0.93\n",
      "Average Fidelity for p=0.6: 0.906\n",
      "Average Fidelity for p=0.7: 0.878\n",
      "Average Fidelity for p=0.8: 0.845\n",
      "Average Fidelity for p=0.9: 0.805\n",
      "Average Fidelity for p=1.0: 0.752\n"
     ]
    }
   ],
   "source": [
    "average_fidelity_by_p = {p: np.mean(fidelity_values[p_values == p]) for p in unique_p_values}\n",
    "\n",
    "# Print the average fidelity for each distinct value of p\n",
    "for p, avg_fidelity in average_fidelity_by_p.items():\n",
    "    print(f\"Average Fidelity for p={np.round(p,2)}: {np.round(avg_fidelity,3)}\")"
   ]
  },
  {
   "cell_type": "code",
   "execution_count": 28,
   "metadata": {},
   "outputs": [
    {
     "data": {
      "image/png": "[encoded data removed]",
      "text/plain": [
       "<Figure size 640x480 with 1 Axes>"
      ]
     },
     "metadata": {},
     "output_type": "display_data"
    }
   ],
   "source": [
    "import matplotlib.pyplot as plt\n",
    "\n",
    "# plt.scatter(p_values, fidelity_values, label='Fidelity Values', alpha=0.6)\n",
    "\n",
    "# Plot the average fidelity for each p value\n",
    "avg_p = np.array(list(average_fidelity_by_p.keys()))\n",
    "avg_fidelity = np.array(list(average_fidelity_by_p.values()))\n",
    "plt.plot(avg_p, avg_fidelity, color='red', label='Average Fidelity', marker='o')\n",
    "\n",
    "# Add labels and title\n",
    "plt.xlabel('p')\n",
    "plt.ylabel('Fidelity')\n",
    "plt.title('Fidelity Values and Average Fidelity by p')\n",
    "plt.legend()\n",
    "plt.grid(True)\n",
    "\n",
    "# Show the plot\n",
    "plt.show()"
   ]
  },
  {
   "cell_type": "code",
   "execution_count": null,
   "metadata": {},
   "outputs": [],
   "source": []
  }
 ],
 "metadata": {
  "kernelspec": {
   "display_name": "Python 3",
   "language": "python",
   "name": "python3"
  },
  "language_info": {
   "codemirror_mode": {
    "name": "ipython",
    "version": 3
   },
   "file_extension": ".py",
   "mimetype": "text/x-python",
   "name": "python",
   "nbconvert_exporter": "python",
   "pygments_lexer": "ipython3",
   "version": "3.12.4"
  }
 },
 "nbformat": 4,
 "nbformat_minor": 2
}
